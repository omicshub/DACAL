{
 "cells": [
  {
   "cell_type": "code",
   "execution_count": null,
   "metadata": {
    "vscode": {
     "languageId": "r"
    }
   },
   "outputs": [],
   "source": [
    "source(\"./preprocess/utils.R\")"
   ]
  },
  {
   "cell_type": "code",
   "execution_count": null,
   "metadata": {
    "vscode": {
     "languageId": "r"
    }
   },
   "outputs": [],
   "source": [
    "data <- LoadH5Seurat(\"/DACAL/preprocess/data/pancreas_raw.h5seurat\")"
   ]
  },
  {
   "cell_type": "code",
   "execution_count": null,
   "metadata": {
    "vscode": {
     "languageId": "r"
    }
   },
   "outputs": [],
   "source": [
    "base_dir <- \"./DACAL/data/h_p8\"\n",
    "preprocess(base_dir, rna = data)"
   ]
  },
  {
   "cell_type": "code",
   "execution_count": null,
   "metadata": {
    "vscode": {
     "languageId": "r"
    }
   },
   "outputs": [],
   "source": [
    "write.csv(file = './DACAL/data/h_p8/metricx.csv',t(as.matrix(metricx)), quote = F)"
   ]
  },
  {
   "cell_type": "code",
   "execution_count": null,
   "metadata": {
    "vscode": {
     "languageId": "r"
    }
   },
   "outputs": [],
   "source": [
    "data1 <- LoadH5Seurat(\"./DACAL/data/h_p8/rna.h5seurat\")\n",
    "feat_names <- rownames(data1)\n",
    "write.csv(file = './DACAL/data/h_p8/feat_names_rna.csv', as.matrix(feat_names), quote = F)"
   ]
  },
  {
   "cell_type": "code",
   "execution_count": null,
   "metadata": {
    "vscode": {
     "languageId": "r"
    }
   },
   "outputs": [],
   "source": [
    "feat_names <- colnames(data1)\n",
    "write.csv(file = './DACAL/data/human_pancreasn8/feat/feat_names_rna.csv', as.matrix(feat_names), quote = F)"
   ]
  },
  {
   "cell_type": "code",
   "execution_count": null,
   "metadata": {
    "vscode": {
     "languageId": "r"
    }
   },
   "outputs": [],
   "source": [
    "data1$BATCH <- data1@meta.data$batch\n",
    "data1$label <- data1@meta.data$label\n",
    "obj_batch <- SplitObject(data1, split.by = \"BATCH\")"
   ]
  },
  {
   "cell_type": "code",
   "execution_count": null,
   "metadata": {
    "vscode": {
     "languageId": "r"
    }
   },
   "outputs": [],
   "source": []
  },
  {
   "cell_type": "code",
   "execution_count": null,
   "metadata": {
    "vscode": {
     "languageId": "r"
    }
   },
   "outputs": [],
   "source": [
    "databatch1 <- obj_batch$celseq\n",
    "databatch2 <- obj_batch$celseq2\n",
    "databatch3 <- obj_batch$smartseq2\n",
    "databatch4 <- obj_batch$fluidigmc1\n",
    "databatch5 <- obj_batch$indrop1\n",
    "databatch6 <- obj_batch$indrop2\n",
    "databatch7 <- obj_batch$indrop3\n",
    "databatch8 <- obj_batch$indrop4\n"
   ]
  },
  {
   "cell_type": "code",
   "execution_count": null,
   "metadata": {
    "vscode": {
     "languageId": "r"
    }
   },
   "outputs": [],
   "source": [
    "write.csv(file = './DACAL/data/human_pancreasn8/subset_0/mat/rna.csv', t(as.matrix(databatch1[['rna']]@data[databatch1@assays$rna@var.features,])), quote = F)\n",
    "write.csv(file = './DACAL/data/human_pancreasn8/subset_1/mat/rna.csv', t(as.matrix(databatch2[['rna']]@data[databatch2@assays$rna@var.features,])), quote = F)\n",
    "write.csv(file = './DACAL/data/human_pancreasn8/subset_2/mat/rna.csv', t(as.matrix(databatch3[['rna']]@data[databatch3@assays$rna@var.features,])), quote = F)\n",
    "write.csv(file = './DACAL/data/human_pancreasn8/subset_3/mat/rna.csv', t(as.matrix(databatch4[['rna']]@data[databatch4@assays$rna@var.features,])), quote = F)\n",
    "write.csv(file = './DACAL/data/human_pancreasn8/subset_4/mat/rna.csv', t(as.matrix(databatch5[['rna']]@data[databatch5@assays$rna@var.features,])), quote = F)\n",
    "write.csv(file = './DACAL/data/human_pancreasn8/subset_5/mat/rna.csv', t(as.matrix(databatch6[['rna']]@data[databatch6@assays$rna@var.features,])), quote = F)\n",
    "write.csv(file = './DACAL/data/human_pancreasn8/subset_6/mat/rna.csv', t(as.matrix(databatch7[['rna']]@data[databatch7@assays$rna@var.features,])), quote = F)\n",
    "write.csv(file = './DACAL/data/human_pancreasn8/subset_7/mat/rna.csv', t(as.matrix(databatch8[['rna']]@data[databatch8@assays$rna@var.features,])), quote = F)"
   ]
  },
  {
   "cell_type": "code",
   "execution_count": null,
   "metadata": {
    "vscode": {
     "languageId": "r"
    }
   },
   "outputs": [],
   "source": [
    "cell_name1 <- colnames(databatch1)\n",
    "write.csv(cell_name1, './DACAL/data/human_pancreasn8/subset_0/cell_names.csv', quote = F)\n",
    "cell_name2 <- colnames(databatch2)\n",
    "write.csv(cell_name2, './DACAL/data/human_pancreasn8/subset_1/cell_names.csv', quote = F)\n",
    "cell_name3 <- colnames(databatch3)\n",
    "write.csv(cell_name3, './DACAL/data/human_pancreasn8/subset_2/cell_names.csv', quote = F)\n",
    "cell_name4 <- colnames(databatch4)\n",
    "write.csv(cell_name4, './DACAL/data/human_pancreasn8/subset_3/cell_names.csv', quote = F)\n",
    "cell_name5 <- colnames(databatch5)\n",
    "write.csv(cell_name5, './DACAL/data/human_pancreasn8/subset_4/cell_names.csv', quote = F)\n",
    "cell_name6 <- colnames(databatch6)\n",
    "write.csv(cell_name6, './DACAL/data/human_pancreasn8/subset_5/cell_names.csv', quote = F)\n",
    "cell_name7 <- colnames(databatch7)\n",
    "write.csv(cell_name7, './DACAL/data/human_pancreasn8/subset_6/cell_names.csv', quote = F)\n",
    "cell_name8 <- colnames(databatch8)\n",
    "write.csv(cell_name8, './DACAL/data/human_pancreasn8/subset_7/cell_names.csv', quote = F)"
   ]
  }
 ],
 "metadata": {
  "kernelspec": {
   "display_name": "R",
   "language": "R",
   "name": "ir"
  },
  "language_info": {
   "name": "R"
  },
  "orig_nbformat": 4
 },
 "nbformat": 4,
 "nbformat_minor": 2
}
