{
 "cells": [
  {
   "cell_type": "code",
   "execution_count": null,
   "metadata": {
    "vscode": {
     "languageId": "r"
    }
   },
   "outputs": [],
   "source": [
    "label <- read.csv('./data/mammary_epithelial/celltype.csv',,head = T,row.names =1)\n",
    "p_true <- length(table(label))\n",
    "labelp <- read.csv('./DACAL/result/mammary_epithelialn/e0/default/represent/y.csv',head = F)\n",
    "p_predicted <- length(table(labelp))\n",
    "DR <- (p_predicted  - p_true) / p_true\n",
    "DR"
   ]
  }
 ],
 "metadata": {
  "kernelspec": {
   "display_name": "R",
   "language": "R",
   "name": "ir"
  },
  "language_info": {
   "name": "R"
  },
  "orig_nbformat": 4
 },
 "nbformat": 4,
 "nbformat_minor": 2
}
