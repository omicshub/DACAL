{
 "cells": [
  {
   "cell_type": "code",
   "execution_count": 4,
   "metadata": {},
   "outputs": [],
   "source": [
    "import os\n",
    "import os.path as path\n",
    "from os.path import join as pj\n",
    "import argparse\n",
    "import sys\n",
    "sys.path.append(\"modules\")\n",
    "import utils\n",
    "import csv\n",
    "import math\n",
    "from glob import glob\n",
    "from tqdm import tqdm\n",
    "os.chdir(\"./DACAL-main\")"
   ]
  },
  {
   "cell_type": "code",
   "execution_count": 10,
   "metadata": {},
   "outputs": [],
   "source": [
    "parser = argparse.ArgumentParser()\n",
    "\n",
    "parser.add_argument('--task', type=str, default=\"human_pancreasn8\")\n",
    "o, _ = parser.parse_known_args()  # for python interactive\n",
    "\n",
    "\n",
    "base_dirs = glob(pj(\"data\", o.task, \"subset_*\"))"
   ]
  },
  {
   "cell_type": "code",
   "execution_count": 11,
   "metadata": {},
   "outputs": [
    {
     "name": "stdout",
     "output_type": "stream",
     "text": [
      "\n",
      "Directory: data/human_pancreasn8/subset_1/mat\n",
      "Spliting rna matrix: 2285 cells, 4000 features\n"
     ]
    },
    {
     "name": "stderr",
     "output_type": "stream",
     "text": [
      "100%|██████████| 2285/2285 [00:04<00:00, 518.03it/s]\n"
     ]
    },
    {
     "name": "stdout",
     "output_type": "stream",
     "text": [
      "\n",
      "Directory: data/human_pancreasn8/subset_4/mat\n",
      "Spliting rna matrix: 1937 cells, 4000 features\n"
     ]
    },
    {
     "name": "stderr",
     "output_type": "stream",
     "text": [
      "100%|██████████| 1937/1937 [00:03<00:00, 533.15it/s]\n"
     ]
    },
    {
     "name": "stdout",
     "output_type": "stream",
     "text": [
      "\n",
      "Directory: data/human_pancreasn8/subset_7/mat\n",
      "Spliting rna matrix: 1303 cells, 4000 features\n"
     ]
    },
    {
     "name": "stderr",
     "output_type": "stream",
     "text": [
      "100%|██████████| 1303/1303 [00:02<00:00, 531.39it/s]\n"
     ]
    },
    {
     "name": "stdout",
     "output_type": "stream",
     "text": [
      "\n",
      "Directory: data/human_pancreasn8/subset_2/mat\n",
      "Spliting rna matrix: 2394 cells, 4000 features\n"
     ]
    },
    {
     "name": "stderr",
     "output_type": "stream",
     "text": [
      "100%|██████████| 2394/2394 [00:04<00:00, 488.14it/s]\n"
     ]
    },
    {
     "name": "stdout",
     "output_type": "stream",
     "text": [
      "\n",
      "Directory: data/human_pancreasn8/subset_6/mat\n",
      "Spliting rna matrix: 3605 cells, 4000 features\n"
     ]
    },
    {
     "name": "stderr",
     "output_type": "stream",
     "text": [
      "100%|██████████| 3605/3605 [00:06<00:00, 527.84it/s]\n"
     ]
    },
    {
     "name": "stdout",
     "output_type": "stream",
     "text": [
      "\n",
      "Directory: data/human_pancreasn8/subset_3/mat\n",
      "Spliting rna matrix: 638 cells, 4000 features\n"
     ]
    },
    {
     "name": "stderr",
     "output_type": "stream",
     "text": [
      "100%|██████████| 638/638 [00:01<00:00, 396.14it/s]\n"
     ]
    },
    {
     "name": "stdout",
     "output_type": "stream",
     "text": [
      "\n",
      "Directory: data/human_pancreasn8/subset_5/mat\n",
      "Spliting rna matrix: 1724 cells, 4000 features\n"
     ]
    },
    {
     "name": "stderr",
     "output_type": "stream",
     "text": [
      "100%|██████████| 1724/1724 [00:03<00:00, 523.41it/s]\n"
     ]
    },
    {
     "name": "stdout",
     "output_type": "stream",
     "text": [
      "\n",
      "Directory: data/human_pancreasn8/subset_0/mat\n",
      "Spliting rna matrix: 1004 cells, 4000 features\n"
     ]
    },
    {
     "name": "stderr",
     "output_type": "stream",
     "text": [
      "100%|██████████| 1004/1004 [00:01<00:00, 503.74it/s]\n"
     ]
    }
   ],
   "source": [
    "\n",
    "for base_dir in base_dirs:\n",
    "    # Specify directories\n",
    "    in_dir = pj(base_dir, \"mat\")\n",
    "    out_dir = pj(base_dir, \"vec\")\n",
    "    utils.mkdirs(out_dir, remove_old=True)\n",
    "    print(\"\\nDirectory: %s\" % (in_dir))\n",
    "\n",
    "    # Load and save data\n",
    "    mat_names = glob(pj(in_dir, '*.csv'))  # get filenames\n",
    "    for i, mat_name in enumerate(mat_names):\n",
    "        # load\n",
    "        mat = utils.load_csv(mat_name)\n",
    "        # mat = utils.transpose_list(mat)\n",
    "        mod = path.splitext(path.basename(mat_name))[0]\n",
    "        cell_num = len(mat) - 1\n",
    "        feat_num = len(mat[0]) - 1\n",
    "        print(\"Spliting %s matrix: %d cells, %d features\" % (mod, cell_num, feat_num))\n",
    "        \n",
    "        # save\n",
    "        out_mod_dir = pj(out_dir, mod)\n",
    "        utils.mkdirs(out_mod_dir, remove_old=True)\n",
    "        vec_name_fmt = utils.get_name_fmt(cell_num) + \".csv\"\n",
    "        vec_name_fmt = pj(out_mod_dir, vec_name_fmt)\n",
    "        for cell_id in tqdm(range(cell_num)):\n",
    "            vec_name = vec_name_fmt % cell_id\n",
    "            utils.save_list_to_csv([mat[cell_id+1][1:]], vec_name)"
   ]
  }
 ],
 "metadata": {
  "kernelspec": {
   "display_name": "base",
   "language": "python",
   "name": "python3"
  },
  "language_info": {
   "codemirror_mode": {
    "name": "ipython",
    "version": 3
   },
   "file_extension": ".py",
   "mimetype": "text/x-python",
   "name": "python",
   "nbconvert_exporter": "python",
   "pygments_lexer": "ipython3",
   "version": "3.7.11"
  },
  "orig_nbformat": 4
 },
 "nbformat": 4,
 "nbformat_minor": 2
}
