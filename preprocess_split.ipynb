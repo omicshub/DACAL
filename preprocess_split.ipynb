{
 "cells": [
  {
   "cell_type": "code",
   "execution_count": null,
   "metadata": {},
   "outputs": [],
   "source": [
    "import os\n",
    "import os.path as path\n",
    "from os.path import join as pj\n",
    "import argparse\n",
    "import sys\n",
    "sys.path.append(\"modules\")\n",
    "import utils\n",
    "import csv\n",
    "import math\n",
    "from glob import glob\n",
    "from tqdm import tqdm"
   ]
  },
  {
   "cell_type": "code",
   "execution_count": null,
   "metadata": {},
   "outputs": [],
   "source": [
    "parser = argparse.ArgumentParser()\n",
    "parser.add_argument('--task', type=str, default=\"mammary_epithelial\")\n",
    "o = parser.parse_args()\n",
    "\n",
    "\n",
    "base_dirs = glob(pj(\"data\", o.task, \"subset_*\"))\n",
    "for base_dir in base_dirs:\n",
    "    # Specify directories\n",
    "    in_dir = pj(base_dir, \"mat\")\n",
    "    out_dir = pj(base_dir, \"vec\")\n",
    "    utils.mkdirs(out_dir, remove_old=True)\n",
    "    print(\"\\nDirectory: %s\" % (in_dir))\n",
    "\n",
    "    # Load and save data\n",
    "    mat_names = glob(pj(in_dir, '*.csv'))  # get filenames\n",
    "    for i, mat_name in enumerate(mat_names):\n",
    "        # load\n",
    "        mat = utils.load_csv(mat_name)\n",
    "        # mat = utils.transpose_list(mat)\n",
    "        mod = path.splitext(path.basename(mat_name))[0]\n",
    "        cell_num = len(mat) - 1\n",
    "        feat_num = len(mat[0]) - 1\n",
    "        print(\"Spliting %s matrix: %d cells, %d features\" % (mod, cell_num, feat_num))\n",
    "        \n",
    "        # save\n",
    "        out_mod_dir = pj(out_dir, mod)\n",
    "        utils.mkdirs(out_mod_dir, remove_old=True)\n",
    "        vec_name_fmt = utils.get_name_fmt(cell_num) + \".csv\"\n",
    "        vec_name_fmt = pj(out_mod_dir, vec_name_fmt)\n",
    "        for cell_id in tqdm(range(cell_num)):\n",
    "            vec_name = vec_name_fmt % cell_id\n",
    "            utils.save_list_to_csv([mat[cell_id+1][1:]], vec_name)"
   ]
  }
 ],
 "metadata": {
  "language_info": {
   "name": "python"
  },
  "orig_nbformat": 4
 },
 "nbformat": 4,
 "nbformat_minor": 2
}
